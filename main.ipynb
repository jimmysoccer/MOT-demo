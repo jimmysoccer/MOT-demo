{
 "cells": [
  {
   "cell_type": "code",
   "execution_count": 1,
   "metadata": {},
   "outputs": [],
   "source": [
    "import numpy as np"
   ]
  },
  {
   "cell_type": "code",
   "execution_count": 10,
   "metadata": {},
   "outputs": [
    {
     "name": "stdout",
     "output_type": "stream",
     "text": [
      "\n",
      "image 1/1 e:\\MOT-first-try\\image.jpg: 480x640 4 persons, 1 car, 48.2ms\n",
      "Speed: 0.5ms preprocess, 48.2ms inference, 1.0ms postprocess per image at shape (1, 3, 480, 640)\n"
     ]
    }
   ],
   "source": [
    "from ultralytics import YOLO\n",
    "\n",
    "# Configure the tracking parameters and run the tracker\n",
    "model = YOLO('yolov8n.pt')\n",
    "results = model.track(source=\"./image.jpg\",\n",
    "                      conf=0.3, iou=0.5, show=True)\n"
   ]
  },
  {
   "cell_type": "code",
   "execution_count": 9,
   "metadata": {},
   "outputs": [
    {
     "name": "stdout",
     "output_type": "stream",
     "text": [
      "(562, 750, 3)\n",
      "len of boxes 1\n",
      "tensor([[318.1874, 329.8033, 372.2234, 443.7075,   1.0000,   0.8593,   0.0000]])\n"
     ]
    }
   ],
   "source": [
    "for r in results:\n",
    "    boxes = r.boxes\n",
    "    masks = r.masks\n",
    "    probs = r.probs\n",
    "    print(np.shape(r.orig_img))\n",
    "    # print(r)\n",
    "    print('len of boxes',len(boxes))\n",
    "    for box in boxes:\n",
    "        print(box.data)\n",
    "    # for mask in masks:\n",
    "    #     print(mask)\n",
    "    # for prob in probs:\n",
    "    #     print(prob)"
   ]
  },
  {
   "cell_type": "code",
   "execution_count": 39,
   "metadata": {},
   "outputs": [
    {
     "data": {
      "text/plain": [
       "309"
      ]
     },
     "execution_count": 39,
     "metadata": {},
     "output_type": "execute_result"
    }
   ],
   "source": [
    "len(results)"
   ]
  }
 ],
 "metadata": {
  "kernelspec": {
   "display_name": "Python 3",
   "language": "python",
   "name": "python3"
  },
  "language_info": {
   "codemirror_mode": {
    "name": "ipython",
    "version": 3
   },
   "file_extension": ".py",
   "mimetype": "text/x-python",
   "name": "python",
   "nbconvert_exporter": "python",
   "pygments_lexer": "ipython3",
   "version": "3.9.12"
  }
 },
 "nbformat": 4,
 "nbformat_minor": 2
}
